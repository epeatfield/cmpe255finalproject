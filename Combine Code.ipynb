{
 "cells": [
  {
   "cell_type": "code",
   "execution_count": 1,
   "metadata": {},
   "outputs": [],
   "source": [
    "import gzip\n",
    "import csv\n",
    "import json\n",
    "import pandas as pd\n",
    "import numpy as np\n",
    "weather = pd.read_csv('FL2018.csv', header=0, error_bad_lines=False, low_memory=False)\n",
    "weather1 = pd.read_csv('CT2018.csv', header=0, error_bad_lines=False, low_memory=False)\n",
    "weather = weather.append(weather1)"
   ]
  },
  {
   "cell_type": "code",
   "execution_count": 2,
   "metadata": {},
   "outputs": [],
   "source": [
    "##Alabama\n",
    "AL1 = pd.read_csv('AL1.csv', header=0, error_bad_lines=False, low_memory=False)\n",
    "weather = weather.append(AL1)\n",
    "del AL1\n",
    "AL2 = pd.read_csv('AL2.csv', header=0, error_bad_lines=False, low_memory=False)\n",
    "weather = weather.append(AL2)\n",
    "del AL2\n",
    "AL3 = pd.read_csv('AL3.csv', header=0, error_bad_lines=False, low_memory=False)\n",
    "weather = weather.append(AL3)\n",
    "del AL3\n",
    "AL4 = pd.read_csv('AL4.csv', header=0, error_bad_lines=False, low_memory=False)\n",
    "weather = weather.append(AL4)\n",
    "del AL4\n",
    "AL5 = pd.read_csv('AL5.csv', header=0, error_bad_lines=False, low_memory=False)\n",
    "weather = weather.append(AL5)\n",
    "del AL5\n",
    "AL6 = pd.read_csv('AL6.csv', header=0, error_bad_lines=False, low_memory=False)\n",
    "weather = weather.append(AL6)\n",
    "del AL6\n",
    "AL7 = pd.read_csv('AL7.csv', header=0, error_bad_lines=False, low_memory=False)\n",
    "weather = weather.append(AL7)\n",
    "del AL7"
   ]
  },
  {
   "cell_type": "code",
   "execution_count": 3,
   "metadata": {},
   "outputs": [],
   "source": [
    "##Alaska AK\n",
    "AK1 = pd.read_csv('AK1.csv', header=0, error_bad_lines=False, low_memory=False)\n",
    "weather = weather.append(AK1)\n",
    "del AK1\n",
    "AK2 = pd.read_csv('AK2.csv', header=0, error_bad_lines=False, low_memory=False)\n",
    "weather = weather.append(AK2)\n",
    "del AK2\n",
    "AK3 = pd.read_csv('AK3.csv', header=0, error_bad_lines=False, low_memory=False)\n",
    "weather = weather.append(AK3)\n",
    "del AK3\n",
    "AK4 = pd.read_csv('AK4.csv', header=0, error_bad_lines=False, low_memory=False)\n",
    "weather = weather.append(AK4)\n",
    "del AK4\n",
    "AK5 = pd.read_csv('AK5.csv', header=0, error_bad_lines=False, low_memory=False)\n",
    "weather = weather.append(AK5)\n",
    "del AK5\n",
    "AK6 = pd.read_csv('AK6.csv', header=0, error_bad_lines=False, low_memory=False)\n",
    "weather = weather.append(AK6)\n",
    "del AK6\n",
    "AK7 = pd.read_csv('AK7.csv', header=0, error_bad_lines=False, low_memory=False)\n",
    "weather = weather.append(AK7)\n",
    "del AK7\n",
    "AK8 = pd.read_csv('AK8.csv', header=0, error_bad_lines=False, low_memory=False)\n",
    "weather = weather.append(AK8)\n",
    "del AK8"
   ]
  },
  {
   "cell_type": "code",
   "execution_count": 4,
   "metadata": {},
   "outputs": [],
   "source": [
    "##Arizona\n",
    "AZ1 = pd.read_csv('AZ1.csv', header=0, error_bad_lines=False, low_memory=False)\n",
    "weather = weather.append(AZ1)\n",
    "del AZ1\n",
    "AZ2 = pd.read_csv('AZ2.csv', header=0, error_bad_lines=False, low_memory=False)\n",
    "weather = weather.append(AZ2)\n",
    "del AZ2\n",
    "AZ3 = pd.read_csv('AZ3.csv', header=0, error_bad_lines=False, low_memory=False)\n",
    "weather = weather.append(AZ3)\n",
    "del AZ3\n",
    "AZ4 = pd.read_csv('AZ4.csv', header=0, error_bad_lines=False, low_memory=False)\n",
    "weather = weather.append(AZ4)\n",
    "del AZ4\n",
    "AZ5 = pd.read_csv('AZ5.csv', header=0, error_bad_lines=False, low_memory=False)\n",
    "weather = weather.append(AZ5)\n",
    "del AZ5\n",
    "AZ6 = pd.read_csv('AZ6.csv', header=0, error_bad_lines=False, low_memory=False)\n",
    "weather = weather.append(AZ6)\n",
    "del AZ6"
   ]
  },
  {
   "cell_type": "code",
   "execution_count": 5,
   "metadata": {},
   "outputs": [],
   "source": [
    "##Arkansas\n",
    "AR1 = pd.read_csv('AR1.csv', header=0, error_bad_lines=False, low_memory=False)\n",
    "weather = weather.append(AR1)\n",
    "del AR1\n",
    "AR2 = pd.read_csv('AR2.csv', header=0, error_bad_lines=False, low_memory=False)\n",
    "weather = weather.append(AR2)\n",
    "del AR2\n",
    "AR3 = pd.read_csv('AR3.csv', header=0, error_bad_lines=False, low_memory=False)\n",
    "weather = weather.append(AR3)\n",
    "del AR3\n",
    "AR4 = pd.read_csv('AR4.csv', header=0, error_bad_lines=False, low_memory=False)\n",
    "weather = weather.append(AR4)\n",
    "del AR4"
   ]
  },
  {
   "cell_type": "code",
   "execution_count": null,
   "metadata": {},
   "outputs": [],
   "source": [
    "##California\n",
    "CA1 = pd.read_csv('CA1.csv', header=0, error_bad_lines=False, low_memory=False)\n",
    "weather = weather.append(CA1)\n",
    "CA2 = pd.read_csv('CA2.csv', header=0, error_bad_lines=False, low_memory=False)\n",
    "weather = weather.append(CA2)\n",
    "CA3 = pd.read_csv('CA3.csv', header=0, error_bad_lines=False, low_memory=False)\n",
    "weather = weather.append(CA3)\n",
    "CA4 = pd.read_csv('CA4.csv', header=0, error_bad_lines=False, low_memory=False)\n",
    "weather = weather.append(CA4)\n",
    "CA5 = pd.read_csv('CA5.csv', header=0, error_bad_lines=False, low_memory=False)\n",
    "weather = weather.append(CA5)\n",
    "CA6 = pd.read_csv('CA6.csv', header=0, error_bad_lines=False, low_memory=False)\n",
    "weather = weather.append(CA6)\n",
    "CA7 = pd.read_csv('CA7.csv', header=0, error_bad_lines=False, low_memory=False)\n",
    "weather = weather.append(CA7)\n",
    "CA8 = pd.read_csv('CA8.csv', header=0, error_bad_lines=False, low_memory=False)\n",
    "weather = weather.append(CA8)\n",
    "CA9 = pd.read_csv('CA9.csv', header=0, error_bad_lines=False, low_memory=False)\n",
    "weather = weather.append(CA9)\n",
    "CA10 = pd.read_csv('CA10.csv', header=0, error_bad_lines=False, low_memory=False)\n",
    "weather = weather.append(CA10)\n",
    "CA11 = pd.read_csv('CA11.csv', header=0, error_bad_lines=False, low_memory=False)\n",
    "weather = weather.append(CA11)\n",
    "CA12 = pd.read_csv('CA12.csv', header=0, error_bad_lines=False, low_memory=False)\n",
    "weather = weather.append(CA12)\n",
    "CA13 = pd.read_csv('CA13.csv', header=0, error_bad_lines=False, low_memory=False)\n",
    "weather = weather.append(CA13)\n",
    "CA14 = pd.read_csv('CA14.csv', header=0, error_bad_lines=False, low_memory=False)\n",
    "weather = weather.append(CA14)\n",
    "CA15 = pd.read_csv('CA15.csv', header=0, error_bad_lines=False, low_memory=False)\n",
    "weather = weather.append(CA15)"
   ]
  },
  {
   "cell_type": "code",
   "execution_count": null,
   "metadata": {},
   "outputs": [],
   "source": [
    "##Nebraska\n",
    "NB1 = pd.read_csv('NB1.csv', header=0, error_bad_lines=False, low_memory=False)\n",
    "weather = weather.append(NB1)\n",
    "NB2 = pd.read_csv('NB2.csv', header=0, error_bad_lines=False, low_memory=False)\n",
    "weather = weather.append(NB2)\n",
    "NB3 = pd.read_csv('NB3.csv', header=0, error_bad_lines=False, low_memory=False)\n",
    "weather = weather.append(NB3)\n",
    "NB4 = pd.read_csv('NB4.csv', header=0, error_bad_lines=False, low_memory=False)\n",
    "weather = weather.append(NB4)\n",
    "NB5 = pd.read_csv('NB5.csv', header=0, error_bad_lines=False, low_memory=False)\n",
    "weather = weather.append(NB5)"
   ]
  },
  {
   "cell_type": "code",
   "execution_count": 6,
   "metadata": {},
   "outputs": [],
   "source": [
    "weather.to_csv('weather.csv')"
   ]
  },
  {
   "cell_type": "code",
   "execution_count": null,
   "metadata": {},
   "outputs": [],
   "source": []
  }
 ],
 "metadata": {
  "kernelspec": {
   "display_name": "Python 3",
   "language": "python",
   "name": "python3"
  },
  "language_info": {
   "codemirror_mode": {
    "name": "ipython",
    "version": 3
   },
   "file_extension": ".py",
   "mimetype": "text/x-python",
   "name": "python",
   "nbconvert_exporter": "python",
   "pygments_lexer": "ipython3",
   "version": "3.6.5"
  }
 },
 "nbformat": 4,
 "nbformat_minor": 2
}
